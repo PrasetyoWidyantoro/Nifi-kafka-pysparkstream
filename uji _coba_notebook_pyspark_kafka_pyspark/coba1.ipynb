{
 "cells": [
  {
   "cell_type": "code",
   "execution_count": null,
   "id": "c4a3ddaa-ab47-4b60-a8c9-661391f7b451",
   "metadata": {},
   "outputs": [],
   "source": [
    "import pandas as pd\n",
    "from kafka import KafkaProducer\n",
    "from datetime import datetime\n",
    "import time\n",
    "import random\n",
    "import numpy as np\n",
    "\n",
    "# pip install kafka-python\n",
    "\n",
    "KAFKA_TOPIC_NAME_CONS = \"Topic_kita\"\n",
    "KAFKA_BOOTSTRAP_SERVERS_CONS = 'localhost:9092'\n",
    "\n",
    "if __name__ == \"__main__\":\n",
    "    print(\"Kafka Producer Application Started ... \")\n",
    "\n",
    "    kafka_producer_obj = KafkaProducer(bootstrap_servers=KAFKA_BOOTSTRAP_SERVERS_CONS,\n",
    "                                       value_serializer=lambda x: x.encode('utf-8'))\n",
    "    \n",
    "    filepath = \"IRIS.csv\"\n",
    "    \n",
    "    flower_df = pd.read_csv(filepath)\n",
    "  \n",
    "    flower_df['order_id'] = np.arange(len(flower_df))\n",
    "\n",
    "    \n",
    "    flower_list = flower_df.to_dict(orient=\"records\")\n",
    "       \n",
    "\n",
    "    message_list = []\n",
    "    message = None\n",
    "    for message in flower_list:\n",
    "        \n",
    "        message_fields_value_list = []\n",
    "               \n",
    "        message_fields_value_list.append(message[\"order_id\"])\n",
    "        message_fields_value_list.append(message[\"sepal_length\"])\n",
    "        message_fields_value_list.append(message[\"sepal_width\"])\n",
    "        message_fields_value_list.append(message[\"petal_length\"])\n",
    "        message_fields_value_list.append(message[\"petal_width\"])\n",
    "        message_fields_value_list.append(message[\"species\"])\n",
    "\n",
    "        message = ','.join(str(v) for v in message_fields_value_list)\n",
    "        print(\"Message Type: \", type(message))\n",
    "        print(\"Message: \", message)\n",
    "        kafka_producer_obj.send(KAFKA_TOPIC_NAME_CONS, message)\n",
    "        time.sleep(1)\n",
    "\n",
    "\n",
    "    print(\"Kafka Producer Application Completed. \")"
   ]
  }
 ],
 "metadata": {
  "kernelspec": {
   "display_name": "Python 3 (ipykernel)",
   "language": "python",
   "name": "python3"
  },
  "language_info": {
   "codemirror_mode": {
    "name": "ipython",
    "version": 3
   },
   "file_extension": ".py",
   "mimetype": "text/x-python",
   "name": "python",
   "nbconvert_exporter": "python",
   "pygments_lexer": "ipython3",
   "version": "3.10.9"
  }
 },
 "nbformat": 4,
 "nbformat_minor": 5
}
