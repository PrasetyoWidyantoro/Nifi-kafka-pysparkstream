{
 "cells": [
  {
   "cell_type": "code",
   "execution_count": null,
   "id": "07deade9-4d58-4860-aab7-42d92af22661",
   "metadata": {},
   "outputs": [],
   "source": [
    "from pyspark.sql import SparkSession\n",
    "from pyspark.sql.functions import *\n",
    "from pyspark.ml.feature import Normalizer, StandardScaler\n",
    "import random\n",
    "\n",
    "import time\n",
    "\n",
    "kafka_topic_name = \"Topic_kita\"\n",
    "kafka_bootstrap_servers = 'localhost:9092'\n",
    "\n",
    "spark = SparkSession \\\n",
    "    .builder \\\n",
    "    .appName(\"Structured Streaming\") \\\n",
    "    .master(\"local[*]\") \\\n",
    "    .config(\"spark.jars.packages\", \"org.apache.spark:spark-sql-kafka-0-10_2.13:3.3.1\") \\\n",
    "    .getOrCreate()\n",
    "\n",
    "spark.sparkContext.setLogLevel(\"ERROR\")\n",
    "\n",
    "# Construct a streaming DataFrame that reads from the topic\n",
    "flower_df = spark \\\n",
    "    .readStream \\\n",
    "    .format(\"kafka\") \\\n",
    "    .option(\"kafka.bootstrap.servers\", kafka_bootstrap_servers) \\\n",
    "    .option(\"subscribe\", kafka_topic_name) \\\n",
    "    .option(\"startingOffsets\", \"latest\") \\\n",
    "    .load()\n",
    "\n",
    "flower_df1 = flower_df.selectExpr(\"CAST(value AS STRING)\", \"timestamp\")\n",
    "\n",
    "flower_schema_string = \"order_id INT, sepal_length DOUBLE, sepal_width DOUBLE, petal_length DOUBLE, petal_width DOUBLE, species STRING\"\n",
    "\n",
    "flower_df2 = flower_df1 \\\n",
    "    .select(from_csv(col(\"value\"), flower_schema_string) \\\n",
    "    .alias(\"flower\"), \"timestamp\")\n",
    "\n",
    "flower_df3 = flower_df2.select(\"flower.*\", \"timestamp\")\n",
    "\n",
    "flower_df3.createOrReplaceTempView(\"flower_find\")\n",
    "\n",
    "# Menggunakan DataFrame flower_df3\n",
    "song_find_text = flower_df3\n",
    "\n",
    "# Menambahkan operasi agregasi (misalnya, hitung jumlah data)\n",
    "flower_agg_df = song_find_text.groupBy(\"species\").count()\n",
    "\n",
    "flower_agg_write_stream = flower_agg_df \\\n",
    "    .writeStream \\\n",
    "    .trigger(processingTime='5 seconds') \\\n",
    "    .outputMode(\"complete\") \\\n",
    "    .option(\"truncate\", \"false\") \\\n",
    "    .format(\"memory\") \\\n",
    "    .queryName(\"testedTableAgg\") \\\n",
    "    .start()\n",
    "\n",
    "flower_agg_write_stream.awaitTermination(1)"
   ]
  },
  {
   "cell_type": "code",
   "execution_count": null,
   "id": "a8bbee83-190c-4cc0-936b-2066787286bf",
   "metadata": {},
   "outputs": [],
   "source": [
    "df = spark.sql(\"SELECT * FROM testedTableAgg\")  # Menggunakan nama query yang baru\n",
    "df.show()"
   ]
  },
  {
   "cell_type": "code",
   "execution_count": null,
   "id": "e131317f-ad1a-4d55-81d4-1a0286fdee30",
   "metadata": {},
   "outputs": [],
   "source": [
    "df = spark.sql(\"SELECT * FROM testedTable\")\n",
    "df.show(3)"
   ]
  },
  {
   "cell_type": "code",
   "execution_count": null,
   "id": "6fdbf743-8c65-4124-8ef3-e4abc8c5d5d7",
   "metadata": {},
   "outputs": [],
   "source": [
    "df_count = df.count()\n",
    "df_count.show()"
   ]
  },
  {
   "cell_type": "code",
   "execution_count": null,
   "id": "29c45223-14a2-40e3-a686-3e5b74f52f71",
   "metadata": {},
   "outputs": [],
   "source": [
    "df_count = df.count()\n",
    "df_count.show()"
   ]
  },
  {
   "cell_type": "code",
   "execution_count": null,
   "id": "066df4a1-2842-4d1d-9290-3247db9b0459",
   "metadata": {},
   "outputs": [],
   "source": []
  }
 ],
 "metadata": {
  "kernelspec": {
   "display_name": "Python 3 (ipykernel)",
   "language": "python",
   "name": "python3"
  },
  "language_info": {
   "codemirror_mode": {
    "name": "ipython",
    "version": 3
   },
   "file_extension": ".py",
   "mimetype": "text/x-python",
   "name": "python",
   "nbconvert_exporter": "python",
   "pygments_lexer": "ipython3",
   "version": "3.10.9"
  }
 },
 "nbformat": 4,
 "nbformat_minor": 5
}
